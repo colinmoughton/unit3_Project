{
 "cells": [
  {
   "cell_type": "markdown",
   "id": "b5349838",
   "metadata": {},
   "source": [
    "<img src=\"Logo.png\" width=\"100\" align=\"left\"/> \n",
    "\n",
    "# <center> Unit 3 Project </center>\n",
    "#  <center> First section : Data cleaning  </center>\n",
    "\n",
    "In this notebook you will be cleaning your dataset and making sure it's fully ready for modeling.\n",
    "\n",
    "The used dataset is [Hepatitis C  dataset](https://www.kaggle.com/fedesoriano/hepatitis-c-dataset)"
   ]
  },
  {
   "cell_type": "markdown",
   "id": "c3a880ce",
   "metadata": {},
   "source": [
    "## Data preparation \n",
    "As a first step we need to prepare the data :\n",
    "\n",
    "1. Read the data set as a data frame ( file name is HepatitisCdata.csv) \n",
    "2. The here are the column of your dataset:\n",
    "    1) X (Patient ID/No.)\n",
    "    2) Category (diagnosis) (values: '0=Blood Donor', '0s=suspect Blood Donor', '1=Hepatitis', '2=Fibrosis', '3=Cirrhosis') ( the target ) \n",
    "    3) Age (in years)\n",
    "    4) Sex (f,m)\n",
    "    Attributes 5 to 14 refer to laboratory data:\n",
    "    5) ALB : Albumin Blood Test\n",
    "    6) ALP : Alkaline phosphatase\n",
    "    7) ALT : Alanine Transaminase\n",
    "    8) AST : Aspartate Transaminase\n",
    "    9) BIL : Bilirubin\n",
    "    10) CHE : Acetylcholinesterase\n",
    "    11) CHOL : Cholesterol\n",
    "    12) CREA : Creatinine \n",
    "    13) GGT : Gamma-Glutamyl Transferase\n",
    "    14) PROT : Proteins\n",
    "    \n",
    "3. Remember your model only accepts numbers so make sure you deal properly with the missing values and the data types and justify your solution choices \n",
    " \n",
    "4. Make sure the dataset shape in the end is : rows 615 and  14 columns \n",
    " \n",
    "5. Once finished save the cleaned dataset as \"clean_HepatitisC.csv\" file \n",
    " "
   ]
  },
  {
   "cell_type": "code",
   "execution_count": 69,
   "id": "7ef3a82c",
   "metadata": {},
   "outputs": [],
   "source": [
    "import pandas as pd \n",
    "import numpy as np \n",
    "from sklearn import preprocessing\n",
    "from sklearn.preprocessing import LabelEncoder"
   ]
  },
  {
   "cell_type": "code",
   "execution_count": 70,
   "id": "b75c3ac8",
   "metadata": {},
   "outputs": [],
   "source": [
    "#To-Do: read the dataset \n",
    "data = pd.read_csv('HepatitisCdata.csv')"
   ]
  },
  {
   "cell_type": "code",
   "execution_count": 71,
   "id": "690a3bdc",
   "metadata": {
    "scrolled": true
   },
   "outputs": [
    {
     "name": "stdout",
     "output_type": "stream",
     "text": [
      "<class 'pandas.core.frame.DataFrame'>\n",
      "RangeIndex: 615 entries, 0 to 614\n",
      "Data columns (total 14 columns):\n",
      " #   Column      Non-Null Count  Dtype  \n",
      "---  ------      --------------  -----  \n",
      " 0   Unnamed: 0  615 non-null    int64  \n",
      " 1   Category    615 non-null    object \n",
      " 2   Age         615 non-null    int64  \n",
      " 3   Sex         615 non-null    object \n",
      " 4   ALB         614 non-null    float64\n",
      " 5   ALP         597 non-null    float64\n",
      " 6   ALT         614 non-null    float64\n",
      " 7   AST         615 non-null    float64\n",
      " 8   BIL         615 non-null    float64\n",
      " 9   CHE         615 non-null    float64\n",
      " 10  CHOL        605 non-null    float64\n",
      " 11  CREA        615 non-null    float64\n",
      " 12  GGT         615 non-null    float64\n",
      " 13  PROT        614 non-null    float64\n",
      "dtypes: float64(10), int64(2), object(2)\n",
      "memory usage: 67.4+ KB\n"
     ]
    }
   ],
   "source": [
    "data.info()"
   ]
  },
  {
   "cell_type": "code",
   "execution_count": 72,
   "id": "04e93e89",
   "metadata": {},
   "outputs": [
    {
     "data": {
      "text/html": [
       "<div>\n",
       "<style scoped>\n",
       "    .dataframe tbody tr th:only-of-type {\n",
       "        vertical-align: middle;\n",
       "    }\n",
       "\n",
       "    .dataframe tbody tr th {\n",
       "        vertical-align: top;\n",
       "    }\n",
       "\n",
       "    .dataframe thead th {\n",
       "        text-align: right;\n",
       "    }\n",
       "</style>\n",
       "<table border=\"1\" class=\"dataframe\">\n",
       "  <thead>\n",
       "    <tr style=\"text-align: right;\">\n",
       "      <th></th>\n",
       "      <th>Unnamed: 0</th>\n",
       "      <th>Category</th>\n",
       "      <th>Age</th>\n",
       "      <th>Sex</th>\n",
       "      <th>ALB</th>\n",
       "      <th>ALP</th>\n",
       "      <th>ALT</th>\n",
       "      <th>AST</th>\n",
       "      <th>BIL</th>\n",
       "      <th>CHE</th>\n",
       "      <th>CHOL</th>\n",
       "      <th>CREA</th>\n",
       "      <th>GGT</th>\n",
       "      <th>PROT</th>\n",
       "    </tr>\n",
       "  </thead>\n",
       "  <tbody>\n",
       "    <tr>\n",
       "      <th>0</th>\n",
       "      <td>1</td>\n",
       "      <td>0=Blood Donor</td>\n",
       "      <td>32</td>\n",
       "      <td>m</td>\n",
       "      <td>38.5</td>\n",
       "      <td>52.5</td>\n",
       "      <td>7.7</td>\n",
       "      <td>22.1</td>\n",
       "      <td>7.5</td>\n",
       "      <td>6.93</td>\n",
       "      <td>3.23</td>\n",
       "      <td>106.0</td>\n",
       "      <td>12.1</td>\n",
       "      <td>69.0</td>\n",
       "    </tr>\n",
       "    <tr>\n",
       "      <th>1</th>\n",
       "      <td>2</td>\n",
       "      <td>0=Blood Donor</td>\n",
       "      <td>32</td>\n",
       "      <td>m</td>\n",
       "      <td>38.5</td>\n",
       "      <td>70.3</td>\n",
       "      <td>18.0</td>\n",
       "      <td>24.7</td>\n",
       "      <td>3.9</td>\n",
       "      <td>11.17</td>\n",
       "      <td>4.80</td>\n",
       "      <td>74.0</td>\n",
       "      <td>15.6</td>\n",
       "      <td>76.5</td>\n",
       "    </tr>\n",
       "    <tr>\n",
       "      <th>2</th>\n",
       "      <td>3</td>\n",
       "      <td>0=Blood Donor</td>\n",
       "      <td>32</td>\n",
       "      <td>m</td>\n",
       "      <td>46.9</td>\n",
       "      <td>74.7</td>\n",
       "      <td>36.2</td>\n",
       "      <td>52.6</td>\n",
       "      <td>6.1</td>\n",
       "      <td>8.84</td>\n",
       "      <td>5.20</td>\n",
       "      <td>86.0</td>\n",
       "      <td>33.2</td>\n",
       "      <td>79.3</td>\n",
       "    </tr>\n",
       "    <tr>\n",
       "      <th>3</th>\n",
       "      <td>4</td>\n",
       "      <td>0=Blood Donor</td>\n",
       "      <td>32</td>\n",
       "      <td>m</td>\n",
       "      <td>43.2</td>\n",
       "      <td>52.0</td>\n",
       "      <td>30.6</td>\n",
       "      <td>22.6</td>\n",
       "      <td>18.9</td>\n",
       "      <td>7.33</td>\n",
       "      <td>4.74</td>\n",
       "      <td>80.0</td>\n",
       "      <td>33.8</td>\n",
       "      <td>75.7</td>\n",
       "    </tr>\n",
       "    <tr>\n",
       "      <th>4</th>\n",
       "      <td>5</td>\n",
       "      <td>0=Blood Donor</td>\n",
       "      <td>32</td>\n",
       "      <td>m</td>\n",
       "      <td>39.2</td>\n",
       "      <td>74.1</td>\n",
       "      <td>32.6</td>\n",
       "      <td>24.8</td>\n",
       "      <td>9.6</td>\n",
       "      <td>9.15</td>\n",
       "      <td>4.32</td>\n",
       "      <td>76.0</td>\n",
       "      <td>29.9</td>\n",
       "      <td>68.7</td>\n",
       "    </tr>\n",
       "  </tbody>\n",
       "</table>\n",
       "</div>"
      ],
      "text/plain": [
       "   Unnamed: 0       Category  Age Sex   ALB   ALP   ALT   AST   BIL    CHE  \\\n",
       "0           1  0=Blood Donor   32   m  38.5  52.5   7.7  22.1   7.5   6.93   \n",
       "1           2  0=Blood Donor   32   m  38.5  70.3  18.0  24.7   3.9  11.17   \n",
       "2           3  0=Blood Donor   32   m  46.9  74.7  36.2  52.6   6.1   8.84   \n",
       "3           4  0=Blood Donor   32   m  43.2  52.0  30.6  22.6  18.9   7.33   \n",
       "4           5  0=Blood Donor   32   m  39.2  74.1  32.6  24.8   9.6   9.15   \n",
       "\n",
       "   CHOL   CREA   GGT  PROT  \n",
       "0  3.23  106.0  12.1  69.0  \n",
       "1  4.80   74.0  15.6  76.5  \n",
       "2  5.20   86.0  33.2  79.3  \n",
       "3  4.74   80.0  33.8  75.7  \n",
       "4  4.32   76.0  29.9  68.7  "
      ]
     },
     "execution_count": 72,
     "metadata": {},
     "output_type": "execute_result"
    }
   ],
   "source": [
    "#To-Do  Start investigating the data types and correcting that \n",
    "# Provide explanation about each step in Markdown cells \n",
    "data.head()"
   ]
  },
  {
   "cell_type": "code",
   "execution_count": 73,
   "id": "3b899aa8-d02e-4af3-a957-3a531947768a",
   "metadata": {},
   "outputs": [
    {
     "data": {
      "text/plain": [
       "Index(['Unnamed: 0', 'Category', 'Age', 'Sex', 'ALB', 'ALP', 'ALT', 'AST',\n",
       "       'BIL', 'CHE', 'CHOL', 'CREA', 'GGT', 'PROT'],\n",
       "      dtype='object')"
      ]
     },
     "execution_count": 73,
     "metadata": {},
     "output_type": "execute_result"
    }
   ],
   "source": [
    "# view columns using df.columns\n",
    "data.columns"
   ]
  },
  {
   "cell_type": "code",
   "execution_count": 74,
   "id": "5e637631-cc0c-480f-93a3-a763463a3271",
   "metadata": {},
   "outputs": [
    {
     "data": {
      "text/html": [
       "<div>\n",
       "<style scoped>\n",
       "    .dataframe tbody tr th:only-of-type {\n",
       "        vertical-align: middle;\n",
       "    }\n",
       "\n",
       "    .dataframe tbody tr th {\n",
       "        vertical-align: top;\n",
       "    }\n",
       "\n",
       "    .dataframe thead th {\n",
       "        text-align: right;\n",
       "    }\n",
       "</style>\n",
       "<table border=\"1\" class=\"dataframe\">\n",
       "  <thead>\n",
       "    <tr style=\"text-align: right;\">\n",
       "      <th></th>\n",
       "      <th>Unnamed: 0</th>\n",
       "      <th>Age</th>\n",
       "      <th>ALB</th>\n",
       "      <th>ALP</th>\n",
       "      <th>ALT</th>\n",
       "      <th>AST</th>\n",
       "      <th>BIL</th>\n",
       "      <th>CHE</th>\n",
       "      <th>CHOL</th>\n",
       "      <th>CREA</th>\n",
       "      <th>GGT</th>\n",
       "      <th>PROT</th>\n",
       "      <th>Category_encoded</th>\n",
       "      <th>Sex_encoded</th>\n",
       "    </tr>\n",
       "  </thead>\n",
       "  <tbody>\n",
       "    <tr>\n",
       "      <th>0</th>\n",
       "      <td>1</td>\n",
       "      <td>32</td>\n",
       "      <td>38.5</td>\n",
       "      <td>52.5</td>\n",
       "      <td>7.7</td>\n",
       "      <td>22.1</td>\n",
       "      <td>7.5</td>\n",
       "      <td>6.93</td>\n",
       "      <td>3.23</td>\n",
       "      <td>106.0</td>\n",
       "      <td>12.1</td>\n",
       "      <td>69.0</td>\n",
       "      <td>0</td>\n",
       "      <td>1</td>\n",
       "    </tr>\n",
       "    <tr>\n",
       "      <th>1</th>\n",
       "      <td>2</td>\n",
       "      <td>32</td>\n",
       "      <td>38.5</td>\n",
       "      <td>70.3</td>\n",
       "      <td>18.0</td>\n",
       "      <td>24.7</td>\n",
       "      <td>3.9</td>\n",
       "      <td>11.17</td>\n",
       "      <td>4.80</td>\n",
       "      <td>74.0</td>\n",
       "      <td>15.6</td>\n",
       "      <td>76.5</td>\n",
       "      <td>0</td>\n",
       "      <td>1</td>\n",
       "    </tr>\n",
       "    <tr>\n",
       "      <th>2</th>\n",
       "      <td>3</td>\n",
       "      <td>32</td>\n",
       "      <td>46.9</td>\n",
       "      <td>74.7</td>\n",
       "      <td>36.2</td>\n",
       "      <td>52.6</td>\n",
       "      <td>6.1</td>\n",
       "      <td>8.84</td>\n",
       "      <td>5.20</td>\n",
       "      <td>86.0</td>\n",
       "      <td>33.2</td>\n",
       "      <td>79.3</td>\n",
       "      <td>0</td>\n",
       "      <td>1</td>\n",
       "    </tr>\n",
       "    <tr>\n",
       "      <th>3</th>\n",
       "      <td>4</td>\n",
       "      <td>32</td>\n",
       "      <td>43.2</td>\n",
       "      <td>52.0</td>\n",
       "      <td>30.6</td>\n",
       "      <td>22.6</td>\n",
       "      <td>18.9</td>\n",
       "      <td>7.33</td>\n",
       "      <td>4.74</td>\n",
       "      <td>80.0</td>\n",
       "      <td>33.8</td>\n",
       "      <td>75.7</td>\n",
       "      <td>0</td>\n",
       "      <td>1</td>\n",
       "    </tr>\n",
       "    <tr>\n",
       "      <th>4</th>\n",
       "      <td>5</td>\n",
       "      <td>32</td>\n",
       "      <td>39.2</td>\n",
       "      <td>74.1</td>\n",
       "      <td>32.6</td>\n",
       "      <td>24.8</td>\n",
       "      <td>9.6</td>\n",
       "      <td>9.15</td>\n",
       "      <td>4.32</td>\n",
       "      <td>76.0</td>\n",
       "      <td>29.9</td>\n",
       "      <td>68.7</td>\n",
       "      <td>0</td>\n",
       "      <td>1</td>\n",
       "    </tr>\n",
       "  </tbody>\n",
       "</table>\n",
       "</div>"
      ],
      "text/plain": [
       "   Unnamed: 0  Age   ALB   ALP   ALT   AST   BIL    CHE  CHOL   CREA   GGT  \\\n",
       "0           1   32  38.5  52.5   7.7  22.1   7.5   6.93  3.23  106.0  12.1   \n",
       "1           2   32  38.5  70.3  18.0  24.7   3.9  11.17  4.80   74.0  15.6   \n",
       "2           3   32  46.9  74.7  36.2  52.6   6.1   8.84  5.20   86.0  33.2   \n",
       "3           4   32  43.2  52.0  30.6  22.6  18.9   7.33  4.74   80.0  33.8   \n",
       "4           5   32  39.2  74.1  32.6  24.8   9.6   9.15  4.32   76.0  29.9   \n",
       "\n",
       "   PROT  Category_encoded  Sex_encoded  \n",
       "0  69.0                 0            1  \n",
       "1  76.5                 0            1  \n",
       "2  79.3                 0            1  \n",
       "3  75.7                 0            1  \n",
       "4  68.7                 0            1  "
      ]
     },
     "execution_count": 74,
     "metadata": {},
     "output_type": "execute_result"
    }
   ],
   "source": [
    "# Create a LabelEncoder object and fit it to each feature in data\n",
    "# encode labels with value between 0 and n_classes-1\n",
    "le = LabelEncoder()\n",
    "data['Category_encoded'] = le.fit_transform(data['Category'])\n",
    "data['Sex_encoded'] = le.fit_transform(data['Sex'])\n",
    "data = data.drop('Category', axis=\"columns\")\n",
    "data = data.drop('Sex', axis=\"columns\")\n",
    "data.head()"
   ]
  },
  {
   "cell_type": "markdown",
   "id": "801d1a20",
   "metadata": {},
   "source": [
    "> Data types are all numeric Now ! Next we need to deal with missing values for the feature columns "
   ]
  },
  {
   "cell_type": "markdown",
   "id": "0524721b",
   "metadata": {},
   "source": [
    "#To-Do list all the columns that contain missing values along with their counts "
   ]
  },
  {
   "cell_type": "code",
   "execution_count": 75,
   "id": "6a102fbd-837c-42da-ae43-002b3e482e12",
   "metadata": {},
   "outputs": [
    {
     "data": {
      "text/plain": [
       "Unnamed: 0           0\n",
       "Age                  0\n",
       "ALB                  1\n",
       "ALP                 18\n",
       "ALT                  1\n",
       "AST                  0\n",
       "BIL                  0\n",
       "CHE                  0\n",
       "CHOL                10\n",
       "CREA                 0\n",
       "GGT                  0\n",
       "PROT                 1\n",
       "Category_encoded     0\n",
       "Sex_encoded          0\n",
       "dtype: int64"
      ]
     },
     "execution_count": 75,
     "metadata": {},
     "output_type": "execute_result"
    }
   ],
   "source": [
    "data.isna().sum()"
   ]
  },
  {
   "cell_type": "code",
   "execution_count": 76,
   "id": "775f0b44",
   "metadata": {},
   "outputs": [
    {
     "name": "stdout",
     "output_type": "stream",
     "text": [
      "<class 'pandas.core.frame.DataFrame'>\n",
      "RangeIndex: 615 entries, 0 to 614\n",
      "Data columns (total 14 columns):\n",
      " #   Column            Non-Null Count  Dtype  \n",
      "---  ------            --------------  -----  \n",
      " 0   Unnamed: 0        615 non-null    int64  \n",
      " 1   Age               615 non-null    int64  \n",
      " 2   ALB               615 non-null    float64\n",
      " 3   ALP               615 non-null    float64\n",
      " 4   ALT               615 non-null    float64\n",
      " 5   AST               615 non-null    float64\n",
      " 6   BIL               615 non-null    float64\n",
      " 7   CHE               615 non-null    float64\n",
      " 8   CHOL              615 non-null    float64\n",
      " 9   CREA              615 non-null    float64\n",
      " 10  GGT               615 non-null    float64\n",
      " 11  PROT              615 non-null    float64\n",
      " 12  Category_encoded  615 non-null    int64  \n",
      " 13  Sex_encoded       615 non-null    int64  \n",
      "dtypes: float64(10), int64(4)\n",
      "memory usage: 67.4 KB\n"
     ]
    }
   ],
   "source": [
    "# To-Do Start providing solutions for each column that has missing data \n",
    "# Treat each case seperately \n",
    "# Hint : no data row should be deleted \n",
    "# Provide evidence that you filled those missing values after each step \n",
    "\n",
    "# Fill Missing Values with the Mean of a Column\n",
    "data['ALB'] = data['ALB'].fillna(data['ALB'].mean())\n",
    "data['ALP'] = data['ALP'].fillna(data['ALP'].mean())\n",
    "data['ALT'] = data['ALT'].fillna(data['ALT'].mean())\n",
    "data['CHOL'] = data['CHOL'].fillna(data['CHOL'].mean())\n",
    "data['PROT'] = data['PROT'].fillna(data['PROT'].mean())\n",
    "\n",
    "data.info()"
   ]
  },
  {
   "cell_type": "code",
   "execution_count": 77,
   "id": "f59e03fe-43aa-4312-9ec8-db3eb011a58d",
   "metadata": {},
   "outputs": [
    {
     "data": {
      "text/plain": [
       "(615, 14)"
      ]
     },
     "execution_count": 77,
     "metadata": {},
     "output_type": "execute_result"
    }
   ],
   "source": [
    "data.shape"
   ]
  },
  {
   "cell_type": "markdown",
   "id": "9dbb1158",
   "metadata": {},
   "source": [
    "> We have no more missing data\n",
    "As an optional thing we can also rename the first column as 'index' or \"ID\" instead of Unnamed "
   ]
  },
  {
   "cell_type": "code",
   "execution_count": 78,
   "id": "bd552319",
   "metadata": {},
   "outputs": [
    {
     "data": {
      "text/plain": [
       "Index(['Unnamed: 0', 'Age', 'ALB', 'ALP', 'ALT', 'AST', 'BIL', 'CHE', 'CHOL',\n",
       "       'CREA', 'GGT', 'PROT', 'Category_encoded', 'Sex_encoded'],\n",
       "      dtype='object')"
      ]
     },
     "execution_count": 78,
     "metadata": {},
     "output_type": "execute_result"
    }
   ],
   "source": [
    "data.columns"
   ]
  },
  {
   "cell_type": "code",
   "execution_count": 79,
   "id": "255cb6a7",
   "metadata": {},
   "outputs": [],
   "source": [
    "data.rename(columns={'Unnamed: 0': \"ID\"}, inplace=True)"
   ]
  },
  {
   "cell_type": "code",
   "execution_count": 80,
   "id": "f63998c3",
   "metadata": {},
   "outputs": [
    {
     "data": {
      "text/plain": [
       "Index(['ID', 'Age', 'ALB', 'ALP', 'ALT', 'AST', 'BIL', 'CHE', 'CHOL', 'CREA',\n",
       "       'GGT', 'PROT', 'Category_encoded', 'Sex_encoded'],\n",
       "      dtype='object')"
      ]
     },
     "execution_count": 80,
     "metadata": {},
     "output_type": "execute_result"
    }
   ],
   "source": [
    "data.columns"
   ]
  },
  {
   "cell_type": "markdown",
   "id": "380f2464",
   "metadata": {},
   "source": [
    "### 6. Save the clean dataset :"
   ]
  },
  {
   "cell_type": "code",
   "execution_count": 81,
   "id": "5b7d623f",
   "metadata": {},
   "outputs": [],
   "source": [
    "# Don't forget to drop the index \n",
    "data.to_csv('clean_HepatitisC.csv', index=False)"
   ]
  },
  {
   "cell_type": "code",
   "execution_count": 82,
   "id": "b9c9af0b",
   "metadata": {},
   "outputs": [
    {
     "data": {
      "text/html": [
       "<div>\n",
       "<style scoped>\n",
       "    .dataframe tbody tr th:only-of-type {\n",
       "        vertical-align: middle;\n",
       "    }\n",
       "\n",
       "    .dataframe tbody tr th {\n",
       "        vertical-align: top;\n",
       "    }\n",
       "\n",
       "    .dataframe thead th {\n",
       "        text-align: right;\n",
       "    }\n",
       "</style>\n",
       "<table border=\"1\" class=\"dataframe\">\n",
       "  <thead>\n",
       "    <tr style=\"text-align: right;\">\n",
       "      <th></th>\n",
       "      <th>ID</th>\n",
       "      <th>Age</th>\n",
       "      <th>ALB</th>\n",
       "      <th>ALP</th>\n",
       "      <th>ALT</th>\n",
       "      <th>AST</th>\n",
       "      <th>BIL</th>\n",
       "      <th>CHE</th>\n",
       "      <th>CHOL</th>\n",
       "      <th>CREA</th>\n",
       "      <th>GGT</th>\n",
       "      <th>PROT</th>\n",
       "      <th>Category_encoded</th>\n",
       "      <th>Sex_encoded</th>\n",
       "    </tr>\n",
       "  </thead>\n",
       "  <tbody>\n",
       "    <tr>\n",
       "      <th>0</th>\n",
       "      <td>1</td>\n",
       "      <td>32</td>\n",
       "      <td>38.5</td>\n",
       "      <td>52.5</td>\n",
       "      <td>7.7</td>\n",
       "      <td>22.1</td>\n",
       "      <td>7.5</td>\n",
       "      <td>6.93</td>\n",
       "      <td>3.23</td>\n",
       "      <td>106.0</td>\n",
       "      <td>12.1</td>\n",
       "      <td>69.0</td>\n",
       "      <td>0</td>\n",
       "      <td>1</td>\n",
       "    </tr>\n",
       "    <tr>\n",
       "      <th>1</th>\n",
       "      <td>2</td>\n",
       "      <td>32</td>\n",
       "      <td>38.5</td>\n",
       "      <td>70.3</td>\n",
       "      <td>18.0</td>\n",
       "      <td>24.7</td>\n",
       "      <td>3.9</td>\n",
       "      <td>11.17</td>\n",
       "      <td>4.80</td>\n",
       "      <td>74.0</td>\n",
       "      <td>15.6</td>\n",
       "      <td>76.5</td>\n",
       "      <td>0</td>\n",
       "      <td>1</td>\n",
       "    </tr>\n",
       "    <tr>\n",
       "      <th>2</th>\n",
       "      <td>3</td>\n",
       "      <td>32</td>\n",
       "      <td>46.9</td>\n",
       "      <td>74.7</td>\n",
       "      <td>36.2</td>\n",
       "      <td>52.6</td>\n",
       "      <td>6.1</td>\n",
       "      <td>8.84</td>\n",
       "      <td>5.20</td>\n",
       "      <td>86.0</td>\n",
       "      <td>33.2</td>\n",
       "      <td>79.3</td>\n",
       "      <td>0</td>\n",
       "      <td>1</td>\n",
       "    </tr>\n",
       "    <tr>\n",
       "      <th>3</th>\n",
       "      <td>4</td>\n",
       "      <td>32</td>\n",
       "      <td>43.2</td>\n",
       "      <td>52.0</td>\n",
       "      <td>30.6</td>\n",
       "      <td>22.6</td>\n",
       "      <td>18.9</td>\n",
       "      <td>7.33</td>\n",
       "      <td>4.74</td>\n",
       "      <td>80.0</td>\n",
       "      <td>33.8</td>\n",
       "      <td>75.7</td>\n",
       "      <td>0</td>\n",
       "      <td>1</td>\n",
       "    </tr>\n",
       "    <tr>\n",
       "      <th>4</th>\n",
       "      <td>5</td>\n",
       "      <td>32</td>\n",
       "      <td>39.2</td>\n",
       "      <td>74.1</td>\n",
       "      <td>32.6</td>\n",
       "      <td>24.8</td>\n",
       "      <td>9.6</td>\n",
       "      <td>9.15</td>\n",
       "      <td>4.32</td>\n",
       "      <td>76.0</td>\n",
       "      <td>29.9</td>\n",
       "      <td>68.7</td>\n",
       "      <td>0</td>\n",
       "      <td>1</td>\n",
       "    </tr>\n",
       "  </tbody>\n",
       "</table>\n",
       "</div>"
      ],
      "text/plain": [
       "   ID  Age   ALB   ALP   ALT   AST   BIL    CHE  CHOL   CREA   GGT  PROT  \\\n",
       "0   1   32  38.5  52.5   7.7  22.1   7.5   6.93  3.23  106.0  12.1  69.0   \n",
       "1   2   32  38.5  70.3  18.0  24.7   3.9  11.17  4.80   74.0  15.6  76.5   \n",
       "2   3   32  46.9  74.7  36.2  52.6   6.1   8.84  5.20   86.0  33.2  79.3   \n",
       "3   4   32  43.2  52.0  30.6  22.6  18.9   7.33  4.74   80.0  33.8  75.7   \n",
       "4   5   32  39.2  74.1  32.6  24.8   9.6   9.15  4.32   76.0  29.9  68.7   \n",
       "\n",
       "   Category_encoded  Sex_encoded  \n",
       "0                 0            1  \n",
       "1                 0            1  \n",
       "2                 0            1  \n",
       "3                 0            1  \n",
       "4                 0            1  "
      ]
     },
     "execution_count": 82,
     "metadata": {},
     "output_type": "execute_result"
    }
   ],
   "source": [
    "data.head()"
   ]
  },
  {
   "cell_type": "code",
   "execution_count": 83,
   "id": "4f6e1cd9-7851-4610-8af2-8622e5224428",
   "metadata": {},
   "outputs": [
    {
     "data": {
      "text/plain": [
       "0    533\n",
       "4     30\n",
       "2     24\n",
       "3     21\n",
       "1      7\n",
       "Name: Category_encoded, dtype: int64"
      ]
     },
     "execution_count": 83,
     "metadata": {},
     "output_type": "execute_result"
    }
   ],
   "source": [
    "data['Category_encoded'].value_counts()"
   ]
  },
  {
   "cell_type": "code",
   "execution_count": 84,
   "id": "8f55235d-88f2-405f-b26e-8298ff93e9f0",
   "metadata": {},
   "outputs": [
    {
     "data": {
      "text/plain": [
       "(615, 14)"
      ]
     },
     "execution_count": 84,
     "metadata": {},
     "output_type": "execute_result"
    }
   ],
   "source": [
    "data.shape"
   ]
  },
  {
   "cell_type": "code",
   "execution_count": null,
   "id": "48a791a5-9c7f-4d9c-8e6a-0da2fba973d8",
   "metadata": {},
   "outputs": [],
   "source": []
  }
 ],
 "metadata": {
  "kernelspec": {
   "display_name": "Python 3 (ipykernel)",
   "language": "python",
   "name": "python3"
  },
  "language_info": {
   "codemirror_mode": {
    "name": "ipython",
    "version": 3
   },
   "file_extension": ".py",
   "mimetype": "text/x-python",
   "name": "python",
   "nbconvert_exporter": "python",
   "pygments_lexer": "ipython3",
   "version": "3.9.19"
  }
 },
 "nbformat": 4,
 "nbformat_minor": 5
}
