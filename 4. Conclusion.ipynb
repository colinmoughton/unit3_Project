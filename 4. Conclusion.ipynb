{
 "cells": [
  {
   "cell_type": "markdown",
   "id": "3c5220cd",
   "metadata": {},
   "source": [
    "<img src=\"Logo.png\" width=\"100\" align=\"left\"/> \n",
    "\n",
    "# <center> Unit 3 Project </center>\n",
    "#  <center> Fourth section : Conclusion </center>\n",
    "\n",
    "\n",
    "In this notebook you will be comparing the results of the two methods we used on the created testset. That is said: you will compare the results to the clustering with the results of the classification on the same test test and provide insights and explanation about the observed behaviour."
   ]
  },
  {
   "cell_type": "markdown",
   "id": "d7999942",
   "metadata": {},
   "source": [
    "For this final task you will need to : \n",
    "1. Load the testset data that you created all along this project \n",
    "2. For each cluster provide percentages about each actual/ predicted class contained with this cluster. Eg : cluster N°2 : is made of ( 50% class 2 and 50% class 3 ) from actual labels and ( 40 % predicted class 2 and 40% predicted class 3 + 20% predicted class 1) \n",
    "The above is just an example and is far away from the actual situation.\n",
    "\n",
    "3. Explain the behaviour and provide isights about it "
   ]
  },
  {
   "cell_type": "markdown",
   "id": "5ce7ef74",
   "metadata": {},
   "source": [
    "## 1.  Load the data: "
   ]
  },
  {
   "cell_type": "code",
   "execution_count": 154,
   "id": "db5d912f",
   "metadata": {},
   "outputs": [],
   "source": [
    "import pandas as pd \n",
    "import seaborn as sns\n",
    "import matplotlib.pyplot as plt"
   ]
  },
  {
   "cell_type": "code",
   "execution_count": 155,
   "id": "20df3761",
   "metadata": {},
   "outputs": [],
   "source": [
    "# To-Do : load the test summary data \n",
    "df = pd.read_csv('test_summary.csv')"
   ]
  },
  {
   "cell_type": "code",
   "execution_count": 156,
   "id": "d4c27a63",
   "metadata": {},
   "outputs": [
    {
     "data": {
      "text/html": [
       "<div>\n",
       "<style scoped>\n",
       "    .dataframe tbody tr th:only-of-type {\n",
       "        vertical-align: middle;\n",
       "    }\n",
       "\n",
       "    .dataframe tbody tr th {\n",
       "        vertical-align: top;\n",
       "    }\n",
       "\n",
       "    .dataframe thead th {\n",
       "        text-align: right;\n",
       "    }\n",
       "</style>\n",
       "<table border=\"1\" class=\"dataframe\">\n",
       "  <thead>\n",
       "    <tr style=\"text-align: right;\">\n",
       "      <th></th>\n",
       "      <th>Unnamed: 0</th>\n",
       "      <th>ID</th>\n",
       "      <th>Age</th>\n",
       "      <th>ALB</th>\n",
       "      <th>ALP</th>\n",
       "      <th>ALT</th>\n",
       "      <th>AST</th>\n",
       "      <th>BIL</th>\n",
       "      <th>CHE</th>\n",
       "      <th>CHOL</th>\n",
       "      <th>CREA</th>\n",
       "      <th>GGT</th>\n",
       "      <th>PROT</th>\n",
       "      <th>Category_encoded</th>\n",
       "      <th>Sex_encoded</th>\n",
       "      <th>cluster</th>\n",
       "      <th>Predicted_class</th>\n",
       "    </tr>\n",
       "  </thead>\n",
       "  <tbody>\n",
       "    <tr>\n",
       "      <th>0</th>\n",
       "      <td>248</td>\n",
       "      <td>249</td>\n",
       "      <td>55</td>\n",
       "      <td>28.1</td>\n",
       "      <td>65.5</td>\n",
       "      <td>16.6</td>\n",
       "      <td>17.5</td>\n",
       "      <td>2.8</td>\n",
       "      <td>5.58</td>\n",
       "      <td>4.39</td>\n",
       "      <td>65.0</td>\n",
       "      <td>26.2</td>\n",
       "      <td>62.4</td>\n",
       "      <td>0</td>\n",
       "      <td>1</td>\n",
       "      <td>3</td>\n",
       "      <td>0</td>\n",
       "    </tr>\n",
       "    <tr>\n",
       "      <th>1</th>\n",
       "      <td>365</td>\n",
       "      <td>366</td>\n",
       "      <td>39</td>\n",
       "      <td>31.4</td>\n",
       "      <td>106.0</td>\n",
       "      <td>16.6</td>\n",
       "      <td>17.0</td>\n",
       "      <td>2.4</td>\n",
       "      <td>5.95</td>\n",
       "      <td>5.30</td>\n",
       "      <td>68.0</td>\n",
       "      <td>22.9</td>\n",
       "      <td>72.3</td>\n",
       "      <td>0</td>\n",
       "      <td>0</td>\n",
       "      <td>3</td>\n",
       "      <td>0</td>\n",
       "    </tr>\n",
       "    <tr>\n",
       "      <th>2</th>\n",
       "      <td>432</td>\n",
       "      <td>433</td>\n",
       "      <td>48</td>\n",
       "      <td>43.7</td>\n",
       "      <td>50.1</td>\n",
       "      <td>17.3</td>\n",
       "      <td>26.3</td>\n",
       "      <td>8.1</td>\n",
       "      <td>8.15</td>\n",
       "      <td>5.38</td>\n",
       "      <td>64.0</td>\n",
       "      <td>13.4</td>\n",
       "      <td>73.1</td>\n",
       "      <td>0</td>\n",
       "      <td>0</td>\n",
       "      <td>3</td>\n",
       "      <td>0</td>\n",
       "    </tr>\n",
       "    <tr>\n",
       "      <th>3</th>\n",
       "      <td>610</td>\n",
       "      <td>611</td>\n",
       "      <td>62</td>\n",
       "      <td>32.0</td>\n",
       "      <td>416.6</td>\n",
       "      <td>5.9</td>\n",
       "      <td>110.3</td>\n",
       "      <td>50.0</td>\n",
       "      <td>5.57</td>\n",
       "      <td>6.30</td>\n",
       "      <td>55.7</td>\n",
       "      <td>650.9</td>\n",
       "      <td>68.5</td>\n",
       "      <td>4</td>\n",
       "      <td>0</td>\n",
       "      <td>2</td>\n",
       "      <td>4</td>\n",
       "    </tr>\n",
       "    <tr>\n",
       "      <th>4</th>\n",
       "      <td>132</td>\n",
       "      <td>133</td>\n",
       "      <td>44</td>\n",
       "      <td>35.5</td>\n",
       "      <td>81.7</td>\n",
       "      <td>27.5</td>\n",
       "      <td>29.5</td>\n",
       "      <td>6.4</td>\n",
       "      <td>8.81</td>\n",
       "      <td>6.65</td>\n",
       "      <td>83.0</td>\n",
       "      <td>24.1</td>\n",
       "      <td>68.0</td>\n",
       "      <td>0</td>\n",
       "      <td>1</td>\n",
       "      <td>3</td>\n",
       "      <td>0</td>\n",
       "    </tr>\n",
       "  </tbody>\n",
       "</table>\n",
       "</div>"
      ],
      "text/plain": [
       "   Unnamed: 0   ID  Age   ALB    ALP   ALT    AST   BIL   CHE  CHOL  CREA  \\\n",
       "0         248  249   55  28.1   65.5  16.6   17.5   2.8  5.58  4.39  65.0   \n",
       "1         365  366   39  31.4  106.0  16.6   17.0   2.4  5.95  5.30  68.0   \n",
       "2         432  433   48  43.7   50.1  17.3   26.3   8.1  8.15  5.38  64.0   \n",
       "3         610  611   62  32.0  416.6   5.9  110.3  50.0  5.57  6.30  55.7   \n",
       "4         132  133   44  35.5   81.7  27.5   29.5   6.4  8.81  6.65  83.0   \n",
       "\n",
       "     GGT  PROT  Category_encoded  Sex_encoded  cluster  Predicted_class  \n",
       "0   26.2  62.4                 0            1        3                0  \n",
       "1   22.9  72.3                 0            0        3                0  \n",
       "2   13.4  73.1                 0            0        3                0  \n",
       "3  650.9  68.5                 4            0        2                4  \n",
       "4   24.1  68.0                 0            1        3                0  "
      ]
     },
     "execution_count": 156,
     "metadata": {},
     "output_type": "execute_result"
    }
   ],
   "source": [
    "df.head()"
   ]
  },
  {
   "cell_type": "code",
   "execution_count": 157,
   "id": "876d9de2-0780-41b2-a631-08ee5cc49c79",
   "metadata": {},
   "outputs": [
    {
     "data": {
      "text/plain": [
       "(123, 17)"
      ]
     },
     "execution_count": 157,
     "metadata": {},
     "output_type": "execute_result"
    }
   ],
   "source": [
    "df.shape"
   ]
  },
  {
   "cell_type": "markdown",
   "id": "5a876830",
   "metadata": {
    "tags": []
   },
   "source": [
    "## 2. Analysis: "
   ]
  },
  {
   "cell_type": "code",
   "execution_count": 158,
   "id": "99732f39",
   "metadata": {},
   "outputs": [],
   "source": [
    "# To-Do create a summary about each cluster : \n",
    "# percentages of each target (actual Category) within each cluster \n",
    "# + Percentages of each predicted class within the cluster \n",
    "# results should be something like : \n",
    "# For clusterk : {'true_class0_percetage': 0.0,\n",
    "#                 'true_class1_percetage': 0.0,\n",
    "#                  'true_class2_percetage': 0.0,\n",
    "#                   'true_class3_percetage': 0.0,\n",
    "#                   'true_class4_percetage': 0.0,\n",
    "#                   'predicted_class0_percetage': 0.0,\n",
    "#                   'predicted_class1_percetage': 0.0,\n",
    "#                   'predicted_class2_percetage': 0.0,\n",
    "#                   'predicted_class3_percetage': 0.0,\n",
    "#                    'predicted_class4_percetage': 0.0}"
   ]
  },
  {
   "cell_type": "code",
   "execution_count": 159,
   "id": "6615221a-dd3b-4f1e-8251-2aeda4ffa8ee",
   "metadata": {},
   "outputs": [
    {
     "name": "stdout",
     "output_type": "stream",
     "text": [
      "Number of rows in Cluster 0:  0\n",
      "Number of rows in Cluster 1:  2\n",
      "Number of rows in Cluster 2:  4\n",
      "Number of rows in Cluster 3:  83\n",
      "Number of rows in Cluster 4:  34\n"
     ]
    }
   ],
   "source": [
    "#Number of Rows in each Cluster\n",
    "for x in range(5):\n",
    "    print( f\"Number of rows in Cluster {x}: \", len(df.query(f\"cluster == {x}\")))"
   ]
  },
  {
   "cell_type": "code",
   "execution_count": 160,
   "id": "efa1f281-3b55-41a7-b94d-1e8750b70894",
   "metadata": {},
   "outputs": [
    {
     "name": "stdout",
     "output_type": "stream",
     "text": [
      "Number of True Category 0 in Cluster 1 =  0\n",
      "Number of True Category 1 in Cluster 1 =  0\n",
      "Number of True Category 2 in Cluster 1 =  0\n",
      "Number of True Category 3 in Cluster 1 =  0\n",
      "Number of True Category 4 in Cluster 1 =  2\n"
     ]
    }
   ],
   "source": [
    "df_Cluster_1 = df.query('cluster == 1')\n",
    "for v in range(5):\n",
    "    Ce_No= df_Cluster_1.query(f'Category_encoded == {v}').value_counts().sum()\n",
    "    print(f\"Number of True Category {v} in Cluster 1 = \" , Ce_No)\n"
   ]
  },
  {
   "cell_type": "code",
   "execution_count": 161,
   "id": "c2c7b706-ff6d-4bfc-9381-970a8550064f",
   "metadata": {},
   "outputs": [
    {
     "name": "stdout",
     "output_type": "stream",
     "text": [
      "Number of rows in Cluster 1: 2\n",
      "Percentage of True Category 0 in Cluster 1 = 0.00 %\n",
      "Percentage of True Category 1 in Cluster 1 = 0.00 %\n",
      "Percentage of True Category 2 in Cluster 1 = 0.00 %\n",
      "Percentage of True Category 3 in Cluster 1 = 0.00 %\n",
      "Percentage of True Category 4 in Cluster 1 = 100.00 %\n",
      "Percentage of Predicted Category 0 in Cluster 1 = 0.00 %\n",
      "Percentage of Predicted Category 1 in Cluster 1 = 0.00 %\n",
      "Percentage of Predicted Category 2 in Cluster 1 = 0.00 %\n",
      "Percentage of Predicted Category 3 in Cluster 1 = 0.00 %\n",
      "Percentage of Predicted Category 4 in Cluster 1 = 100.00 %\n"
     ]
    }
   ],
   "source": [
    "cluster_1_dict = dict()  # Initialize empty dictionary\n",
    "df_Cluster_1 = df.query('cluster == 1')  # Filter rows for cluster 1\n",
    "number_of_rows = len(df_Cluster_1)  # Calculate number of rows in Cluster 1\n",
    "print(\"Number of rows in Cluster 1:\", number_of_rows)\n",
    "\n",
    "# Loop for True Category percentages\n",
    "for v in range(5):\n",
    "    Ce_No = df_Cluster_1.query(f'Category_encoded == {v}').value_counts().sum()\n",
    "    percentage = (Ce_No / number_of_rows) * 100\n",
    "    print(f\"Percentage of True Category {v} in Cluster 1 = {percentage:.2f} %\")\n",
    "\n",
    "    # Update the dictionary with the percentage value\n",
    "    cluster_1_dict[f'true_class{v}_percentage'] = percentage  # Correct way to add to dictionary\n",
    "    \n",
    "# Loop for Predicted Class percentages\n",
    "for v in range(5):\n",
    "    Ce_No = df_Cluster_1.query(f'Predicted_class == {v}').value_counts().sum()\n",
    "    percentage = (Ce_No / number_of_rows) * 100\n",
    "    print(f\"Percentage of Predicted Category {v} in Cluster 1 = {percentage:.2f} %\")\n",
    "\n",
    "    # Update the dictionary with the percentage value\n",
    "    cluster_1_dict[f'predicted_class{v}_percentage'] = percentage  # Correct way to add to dictionary\n"
   ]
  },
  {
   "cell_type": "code",
   "execution_count": 162,
   "id": "529ccd64-9607-4bc2-b804-ed526abf49fa",
   "metadata": {},
   "outputs": [
    {
     "data": {
      "text/plain": [
       "{'true_class0_percentage': 0.0,\n",
       " 'true_class1_percentage': 0.0,\n",
       " 'true_class2_percentage': 0.0,\n",
       " 'true_class3_percentage': 0.0,\n",
       " 'true_class4_percentage': 100.0,\n",
       " 'predicted_class0_percentage': 0.0,\n",
       " 'predicted_class1_percentage': 0.0,\n",
       " 'predicted_class2_percentage': 0.0,\n",
       " 'predicted_class3_percentage': 0.0,\n",
       " 'predicted_class4_percentage': 100.0}"
      ]
     },
     "execution_count": 162,
     "metadata": {},
     "output_type": "execute_result"
    }
   ],
   "source": [
    "cluster_1_dict"
   ]
  },
  {
   "cell_type": "code",
   "execution_count": 163,
   "id": "e9eb989a-de54-4335-bd14-33827781f09b",
   "metadata": {},
   "outputs": [
    {
     "name": "stdout",
     "output_type": "stream",
     "text": [
      "Number of rows in Cluster 2: 4\n",
      "Percentage of True Category 0 in Cluster 2 = 0.00 %\n",
      "Percentage of True Category 1 in Cluster 2 = 25.00 %\n",
      "Percentage of True Category 2 in Cluster 2 = 25.00 %\n",
      "Percentage of True Category 3 in Cluster 2 = 0.00 %\n",
      "Percentage of True Category 4 in Cluster 2 = 50.00 %\n",
      "Percentage of Predicted Category 0 in Cluster 2 = 50.00 %\n",
      "Percentage of Predicted Category 1 in Cluster 2 = 0.00 %\n",
      "Percentage of Predicted Category 2 in Cluster 2 = 0.00 %\n",
      "Percentage of Predicted Category 3 in Cluster 2 = 0.00 %\n",
      "Percentage of Predicted Category 4 in Cluster 2 = 50.00 %\n"
     ]
    }
   ],
   "source": [
    "cluster_2_dict = dict()  # Initialize empty dictionary\n",
    "df_Cluster_2 = df.query('cluster == 2')  # Filter rows for cluster 2\n",
    "number_of_rows = len(df_Cluster_2)  # Calculate number of rows in Cluster 2\n",
    "print(\"Number of rows in Cluster 2:\", number_of_rows)\n",
    "\n",
    "# Loop for True Category percentages\n",
    "for v in range(5):\n",
    "    Ce_No = df_Cluster_2.query(f'Category_encoded == {v}').value_counts().sum()\n",
    "    percentage = (Ce_No / number_of_rows) * 100\n",
    "    print(f\"Percentage of True Category {v} in Cluster 2 = {percentage:.2f} %\")\n",
    "\n",
    "    # Update the dictionary with the percentage value\n",
    "    cluster_2_dict[f'true_class{v}_percentage'] = percentage  # Correct way to add to dictionary\n",
    "    \n",
    "# Loop for Predicted Class percentages\n",
    "for v in range(5):\n",
    "    Ce_No = df_Cluster_2.query(f'Predicted_class == {v}').value_counts().sum()\n",
    "    percentage = (Ce_No / number_of_rows) * 100\n",
    "    print(f\"Percentage of Predicted Category {v} in Cluster 2 = {percentage:.2f} %\")\n",
    "\n",
    "    # Update the dictionary with the percentage value\n",
    "    cluster_2_dict[f'predicted_class{v}_percentage'] = percentage  # Correct way to add to dictionary"
   ]
  },
  {
   "cell_type": "code",
   "execution_count": 164,
   "id": "95c5fa89-d153-41cd-b818-24ed4dfbda81",
   "metadata": {},
   "outputs": [
    {
     "data": {
      "text/plain": [
       "{'true_class0_percentage': 0.0,\n",
       " 'true_class1_percentage': 25.0,\n",
       " 'true_class2_percentage': 25.0,\n",
       " 'true_class3_percentage': 0.0,\n",
       " 'true_class4_percentage': 50.0,\n",
       " 'predicted_class0_percentage': 50.0,\n",
       " 'predicted_class1_percentage': 0.0,\n",
       " 'predicted_class2_percentage': 0.0,\n",
       " 'predicted_class3_percentage': 0.0,\n",
       " 'predicted_class4_percentage': 50.0}"
      ]
     },
     "execution_count": 164,
     "metadata": {},
     "output_type": "execute_result"
    }
   ],
   "source": [
    "cluster_2_dict"
   ]
  },
  {
   "cell_type": "code",
   "execution_count": 165,
   "id": "47260d67-810d-4a43-acdc-722fbea6c7bb",
   "metadata": {},
   "outputs": [
    {
     "name": "stdout",
     "output_type": "stream",
     "text": [
      "Number of rows in Cluster 3: 83\n",
      "Percentage of True Category 0 in Cluster 3 = 93.98 %\n",
      "Percentage of True Category 1 in Cluster 3 = 0.00 %\n",
      "Percentage of True Category 2 in Cluster 3 = 3.61 %\n",
      "Percentage of True Category 3 in Cluster 3 = 1.20 %\n",
      "Percentage of True Category 4 in Cluster 3 = 1.20 %\n",
      "Percentage of Predicted Category 0 in Cluster 3 = 97.59 %\n",
      "Percentage of Predicted Category 1 in Cluster 3 = 0.00 %\n",
      "Percentage of Predicted Category 2 in Cluster 3 = 1.20 %\n",
      "Percentage of Predicted Category 3 in Cluster 3 = 0.00 %\n",
      "Percentage of Predicted Category 4 in Cluster 3 = 1.20 %\n"
     ]
    }
   ],
   "source": [
    "cluster_3_dict = dict()  # Initialize empty dictionary\n",
    "df_Cluster_3 = df.query('cluster == 3')  # Filter rows for cluster 3\n",
    "number_of_rows = len(df_Cluster_3)  # Calculate number of rows in Cluster 3\n",
    "print(\"Number of rows in Cluster 3:\", number_of_rows)\n",
    "\n",
    "# Loop for True Category percentages\n",
    "for v in range(5):\n",
    "    Ce_No = df_Cluster_3.query(f'Category_encoded == {v}').value_counts().sum()\n",
    "    percentage = (Ce_No / number_of_rows) * 100\n",
    "    print(f\"Percentage of True Category {v} in Cluster 3 = {percentage:.2f} %\")\n",
    "\n",
    "    # Update the dictionary with the percentage value\n",
    "    cluster_3_dict[f'true_class{v}_percentage'] = percentage  # Correct way to add to dictionary\n",
    "    \n",
    "# Loop for Predicted Class percentages\n",
    "for v in range(5):\n",
    "    Ce_No = df_Cluster_3.query(f'Predicted_class == {v}').value_counts().sum()\n",
    "    percentage = (Ce_No / number_of_rows) * 100\n",
    "    print(f\"Percentage of Predicted Category {v} in Cluster 3 = {percentage:.2f} %\")\n",
    "\n",
    "    # Update the dictionary with the percentage value\n",
    "    cluster_3_dict[f'predicted_class{v}_percentage'] = percentage  # Correct way to add to dictionary"
   ]
  },
  {
   "cell_type": "code",
   "execution_count": 166,
   "id": "cad08b19-60cf-4030-9c7c-844af9a2c26a",
   "metadata": {},
   "outputs": [
    {
     "data": {
      "text/plain": [
       "{'true_class0_percentage': 93.97590361445783,\n",
       " 'true_class1_percentage': 0.0,\n",
       " 'true_class2_percentage': 3.614457831325301,\n",
       " 'true_class3_percentage': 1.2048192771084338,\n",
       " 'true_class4_percentage': 1.2048192771084338,\n",
       " 'predicted_class0_percentage': 97.59036144578313,\n",
       " 'predicted_class1_percentage': 0.0,\n",
       " 'predicted_class2_percentage': 1.2048192771084338,\n",
       " 'predicted_class3_percentage': 0.0,\n",
       " 'predicted_class4_percentage': 1.2048192771084338}"
      ]
     },
     "execution_count": 166,
     "metadata": {},
     "output_type": "execute_result"
    }
   ],
   "source": [
    "cluster_3_dict"
   ]
  },
  {
   "cell_type": "code",
   "execution_count": 167,
   "id": "e54d089b-b55d-4673-864a-f5f8af73630a",
   "metadata": {},
   "outputs": [
    {
     "name": "stdout",
     "output_type": "stream",
     "text": [
      "Number of rows in Cluster 4: 34\n",
      "Percentage of True Category 0 in Cluster 4 = 52.94 %\n",
      "Percentage of True Category 1 in Cluster 4 = 5.88 %\n",
      "Percentage of True Category 2 in Cluster 4 = 14.71 %\n",
      "Percentage of True Category 3 in Cluster 4 = 14.71 %\n",
      "Percentage of True Category 4 in Cluster 4 = 11.76 %\n",
      "Percentage of Predicted Category 0 in Cluster 4 = 73.53 %\n",
      "Percentage of Predicted Category 1 in Cluster 4 = 2.94 %\n",
      "Percentage of Predicted Category 2 in Cluster 4 = 2.94 %\n",
      "Percentage of Predicted Category 3 in Cluster 4 = 11.76 %\n",
      "Percentage of Predicted Category 4 in Cluster 4 = 8.82 %\n"
     ]
    }
   ],
   "source": [
    "cluster_4_dict = dict()  # Initialize empty dictionary\n",
    "df_Cluster_4 = df.query('cluster == 4')  # Filter rows for cluster 4\n",
    "number_of_rows = len(df_Cluster_4)  # Calculate number of rows in Cluster 4\n",
    "print(\"Number of rows in Cluster 4:\", number_of_rows)\n",
    "\n",
    "# Loop for True Category percentages\n",
    "for v in range(5):\n",
    "    Ce_No = df_Cluster_4.query(f'Category_encoded == {v}').value_counts().sum()\n",
    "    percentage = (Ce_No / number_of_rows) * 100\n",
    "    print(f\"Percentage of True Category {v} in Cluster 4 = {percentage:.2f} %\")\n",
    "\n",
    "    # Update the dictionary with the percentage value\n",
    "    cluster_4_dict[f'true_class{v}_percentage'] = percentage  # Correct way to add to dictionary\n",
    "    \n",
    "# Loop for Predicted Class percentages\n",
    "for v in range(5):\n",
    "    Ce_No = df_Cluster_4.query(f'Predicted_class == {v}').value_counts().sum()\n",
    "    percentage = (Ce_No / number_of_rows) * 100\n",
    "    print(f\"Percentage of Predicted Category {v} in Cluster 4 = {percentage:.2f} %\")\n",
    "\n",
    "    # Update the dictionary with the percentage value\n",
    "    cluster_4_dict[f'predicted_class{v}_percentage'] = percentage  # Correct way to add to dictionary"
   ]
  },
  {
   "cell_type": "code",
   "execution_count": 168,
   "id": "2bb2aca9-039c-424a-b8ae-fb627213ca95",
   "metadata": {},
   "outputs": [
    {
     "data": {
      "text/plain": [
       "{'true_class0_percentage': 52.94117647058824,\n",
       " 'true_class1_percentage': 5.88235294117647,\n",
       " 'true_class2_percentage': 14.705882352941178,\n",
       " 'true_class3_percentage': 14.705882352941178,\n",
       " 'true_class4_percentage': 11.76470588235294,\n",
       " 'predicted_class0_percentage': 73.52941176470588,\n",
       " 'predicted_class1_percentage': 2.941176470588235,\n",
       " 'predicted_class2_percentage': 2.941176470588235,\n",
       " 'predicted_class3_percentage': 11.76470588235294,\n",
       " 'predicted_class4_percentage': 8.823529411764707}"
      ]
     },
     "execution_count": 168,
     "metadata": {},
     "output_type": "execute_result"
    }
   ],
   "source": [
    "cluster_4_dict"
   ]
  },
  {
   "cell_type": "markdown",
   "id": "65b6139d",
   "metadata": {},
   "source": [
    "## 3. Explanations and isights :"
   ]
  },
  {
   "cell_type": "code",
   "execution_count": 169,
   "id": "cecd4211",
   "metadata": {},
   "outputs": [
    {
     "data": {
      "image/png": "[encoded data removed]",
      "text/plain": [
       "<Figure size 720x432 with 1 Axes>"
      ]
     },
     "metadata": {
      "needs_background": "light"
     },
     "output_type": "display_data"
    }
   ],
   "source": [
    "# in this section you should display analysis about each cluster and comment those one by one \n",
    "\n",
    "# Cluster 1 bar graph\n",
    "# Convert the dictionary to a DataFrame\n",
    "df = pd.DataFrame(list(cluster_1_dict.items()), columns=['Category', 'Percentage'])\n",
    "\n",
    "# Extract the true and predicted class labels (for better readability)\n",
    "df['Category'] = df['Category'].apply(lambda x: x.replace('_percentage', ''))  # Remove '_percentage'\n",
    "df['Class'] = df['Category'].apply(lambda x: 'True' if 'true' in x else 'Predicted')  # Create 'True' or 'Predicted'\n",
    "\n",
    "# Create the seaborn barplot\n",
    "plt.figure(figsize=(10, 6))\n",
    "sns.barplot(data=df, x='Category', y='Percentage', hue='Class', palette='Set1')\n",
    "\n",
    "# Customizing the plot\n",
    "plt.title(\"Cluster 1: Percentage of True vs Predicted Classes\")\n",
    "plt.ylabel(\"Percentage (%)\")\n",
    "plt.xticks(rotation=45)\n",
    "plt.tight_layout()\n",
    "\n",
    "# Show the plot\n",
    "plt.show()"
   ]
  },
  {
   "cell_type": "markdown",
   "id": "82c2a160-c761-4f44-ab20-18fa36cca7f8",
   "metadata": {},
   "source": [
    "## Comment on cluster 0 & 1\n",
    "- There were no Cluster zero entries, no Cluster 0 values found in the test set.\n",
    "- In Cluster 1 both the true and predicted agreed, there were only 2 occurences."
   ]
  },
  {
   "cell_type": "code",
   "execution_count": 170,
   "id": "d1395341-1c31-49de-a6f4-b8ebb6366cb2",
   "metadata": {},
   "outputs": [
    {
     "data": {
      "image/png": "[encoded data removed]",
      "text/plain": [
       "<Figure size 720x432 with 1 Axes>"
      ]
     },
     "metadata": {
      "needs_background": "light"
     },
     "output_type": "display_data"
    }
   ],
   "source": [
    "# Cluster 2 bar graph\n",
    "# Convert the dictionary to a DataFrame\n",
    "df = pd.DataFrame(list(cluster_2_dict.items()), columns=['Category', 'Percentage'])\n",
    "\n",
    "# Extract the true and predicted class labels (for better readability)\n",
    "df['Category'] = df['Category'].apply(lambda x: x.replace('_percentage', ''))  # Remove '_percentage'\n",
    "df['Class'] = df['Category'].apply(lambda x: 'True' if 'true' in x else 'Predicted')  # Create 'True' or 'Predicted'\n",
    "\n",
    "# Create the seaborn barplot\n",
    "plt.figure(figsize=(10, 6))\n",
    "sns.barplot(data=df, x='Category', y='Percentage', hue='Class', palette='Set1')\n",
    "\n",
    "# Customizing the plot\n",
    "plt.title(\"Cluster 2: Percentage of True vs Predicted Classes\")\n",
    "plt.ylabel(\"Percentage (%)\")\n",
    "plt.xticks(rotation=45)\n",
    "plt.tight_layout()\n",
    "\n",
    "# Show the plot\n",
    "plt.show()"
   ]
  },
  {
   "cell_type": "markdown",
   "id": "d732970b-2458-46d5-af32-ac3f6de75103",
   "metadata": {},
   "source": [
    "## Comment on cluster 2\n",
    "- In this cluster the true and predicted differed,they agreed on class 4 but not on 0,1 & 2\n",
    "- However, again the number of datapoints was very small 4 in total."
   ]
  },
  {
   "cell_type": "code",
   "execution_count": 175,
   "id": "3d49597b-567f-44fd-b593-93da30467d0f",
   "metadata": {},
   "outputs": [
    {
     "data": {
      "image/png": "[encoded data removed]",
      "text/plain": [
       "<Figure size 720x432 with 1 Axes>"
      ]
     },
     "metadata": {
      "needs_background": "light"
     },
     "output_type": "display_data"
    }
   ],
   "source": [
    "# Cluster 3 bar graph\n",
    "# Convert the dictionary to a DataFrame\n",
    "df = pd.DataFrame(list(cluster_3_dict.items()), columns=['Category', 'Percentage'])\n",
    "\n",
    "# Extract the true and predicted class labels (for better readability)\n",
    "df['Category'] = df['Category'].apply(lambda x: x.replace('_percentage', ''))  # Remove '_percentage'\n",
    "df['Class'] = df['Category'].apply(lambda x: 'True' if 'true' in x else 'Predicted')  # Create 'True' or 'Predicted'\n",
    "\n",
    "# Create the seaborn barplot\n",
    "plt.figure(figsize=(10, 6))\n",
    "sns.barplot(data=df, x='Category', y='Percentage', hue='Class', palette='Set1')\n",
    "\n",
    "# Customizing the plot\n",
    "plt.title(\"Cluster 3: Percentage of True vs Predicted Classes\")\n",
    "plt.ylabel(\"Percentage (%)\")\n",
    "plt.xticks(rotation=45)\n",
    "plt.tight_layout()\n",
    "\n",
    "# Show the plot\n",
    "plt.show()"
   ]
  },
  {
   "cell_type": "markdown",
   "id": "79fd2bad-bce3-46a5-a579-0b861f7c5b19",
   "metadata": {},
   "source": [
    "## Comment on cluster 3\n",
    "- In this cluster there was overall good agreemen, both true and predicted over 90% for class 0\n",
    "- this cluster had the most data points (83)"
   ]
  },
  {
   "cell_type": "code",
   "execution_count": 172,
   "id": "40e1e86b-b037-4408-91d3-6a7f943b97df",
   "metadata": {},
   "outputs": [
    {
     "data": {
      "image/png": "[encoded data removed]",
      "text/plain": [
       "<Figure size 720x432 with 1 Axes>"
      ]
     },
     "metadata": {
      "needs_background": "light"
     },
     "output_type": "display_data"
    }
   ],
   "source": [
    "# Cluster 4 bar graph\n",
    "# Convert the dictionary to a DataFrame\n",
    "df = pd.DataFrame(list(cluster_4_dict.items()), columns=['Category', 'Percentage'])\n",
    "\n",
    "# Extract the true and predicted class labels (for better readability)\n",
    "df['Category'] = df['Category'].apply(lambda x: x.replace('_percentage', ''))  # Remove '_percentage'\n",
    "df['Class'] = df['Category'].apply(lambda x: 'True' if 'true' in x else 'Predicted')  # Create 'True' or 'Predicted'\n",
    "\n",
    "# Create the seaborn barplot\n",
    "plt.figure(figsize=(10, 6))\n",
    "sns.barplot(data=df, x='Category', y='Percentage', hue='Class', palette='Set1')\n",
    "\n",
    "# Customizing the plot\n",
    "plt.title(\"Cluster 4: Percentage of True vs Predicted Classes\")\n",
    "plt.ylabel(\"Percentage (%)\")\n",
    "plt.xticks(rotation=45)\n",
    "plt.tight_layout()\n",
    "\n",
    "# Show the plot\n",
    "plt.show()"
   ]
  },
  {
   "cell_type": "markdown",
   "id": "2618b476-9e77-433f-b9dc-2e88f5fb5c84",
   "metadata": {},
   "source": [
    "## Comment on cluster 4\n",
    "- In this cluster the general trend was similar, the biggest number in class 0\n",
    "- Some disagreement on the othere classes but the number of datapoints distributed over them would be low. There were a total of 34 datapoints in Class 4."
   ]
  },
  {
   "cell_type": "markdown",
   "id": "c248cbad",
   "metadata": {},
   "source": [
    "## 4. Conclusion:\n",
    "\n",
    "Explain your findings and provide reasons for the behaviour."
   ]
  },
  {
   "cell_type": "markdown",
   "id": "a254dd8f-3f52-48f8-870b-d01d1eaddd6a",
   "metadata": {},
   "source": [
    "It looks like class zero was by far the biggest cause, the other causes are minor in comparison. The Clustering and random forrest classifier tell the same overall story.\n",
    "The Classifier gave good accuracy, almost 90%. The clustering mostly agreed where there was more data. The amount of data for the different classes is quite unbalanced, this will impact the accuracy.\n"
   ]
  },
  {
   "cell_type": "code",
   "execution_count": null,
   "id": "524a16cc-2da5-482f-a92d-3e9121ec8387",
   "metadata": {},
   "outputs": [],
   "source": []
  }
 ],
 "metadata": {
  "kernelspec": {
   "display_name": "Python 3 (ipykernel)",
   "language": "python",
   "name": "python3"
  },
  "language_info": {
   "codemirror_mode": {
    "name": "ipython",
    "version": 3
   },
   "file_extension": ".py",
   "mimetype": "text/x-python",
   "name": "python",
   "nbconvert_exporter": "python",
   "pygments_lexer": "ipython3",
   "version": "3.9.19"
  }
 },
 "nbformat": 4,
 "nbformat_minor": 5
}
